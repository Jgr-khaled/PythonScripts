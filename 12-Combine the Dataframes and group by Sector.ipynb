{
 "cells": [
  {
   "attachments": {},
   "cell_type": "markdown",
   "metadata": {},
   "source": [
    "Combine the Dataframes and group by Sector"
   ]
  },
  {
   "cell_type": "code",
   "execution_count": 13,
   "metadata": {},
   "outputs": [
    {
     "name": "stdout",
     "output_type": "stream",
     "text": [
      "[*********************100%***********************]  1 of 1 completed\n",
      "[*********************100%***********************]  1 of 1 completed\n",
      "[*********************100%***********************]  1 of 1 completed\n",
      "[*********************100%***********************]  1 of 1 completed\n",
      "[*********************100%***********************]  1 of 1 completed\n",
      "[*********************100%***********************]  1 of 1 completed\n",
      "[*********************100%***********************]  1 of 1 completed\n",
      "[*********************100%***********************]  1 of 1 completed\n",
      "[*********************100%***********************]  1 of 1 completed\n",
      "                  Open       Close        Volume    Return\n",
      "Sector                                                    \n",
      "Finance      76.123047   76.072916   51903255500 -0.000659\n",
      "Retail      155.978374  155.975802   51499155000 -0.000016\n",
      "Technology  153.513130  153.580935  102176075800  0.000442\n"
     ]
    }
   ],
   "source": [
    "import yfinance as yf\n",
    "import pandas as pd\n",
    "\n",
    "# Define the sectors and their corresponding symbols\n",
    "sectors = {\n",
    "    'Technology': ['AAPL', 'MSFT', 'GOOGL'],\n",
    "    'Finance': ['JPM', 'BAC', 'C'],\n",
    "    'Retail': ['WMT', 'AMZN', 'TGT']\n",
    "}\n",
    "\n",
    "\n",
    "# Fetch stock data from Yahoo Finance\n",
    "dfs = []\n",
    "for sector, symbols in sectors.items():\n",
    "    df_sector = pd.DataFrame()\n",
    "    for symbol in symbols:\n",
    "        df = yf.download(symbol, start='2020-01-01', end='2022-02-15', group_by='ticker')\n",
    "        df['Symbol'] = symbol\n",
    "        df_sector = pd.concat([df_sector, df])\n",
    "        \n",
    "    df_sector['Sector'] = sector\n",
    "    dfs.append(df_sector)\n",
    "    \n",
    "    \n",
    "    \n",
    "# Combine the dataframes and group by sector\n",
    "df = pd.concat(dfs)\n",
    "df.reset_index(inplace=True)\n",
    "df.set_index(['Sector', 'Date', 'Symbol'], inplace=True)\n",
    "df.sort_index(inplace=True)\n",
    "\n",
    "\n",
    "# Compute the sector-level statistics\n",
    "sector_stats = df.groupby(['Sector']).agg({\n",
    "    'Open': 'mean',\n",
    "    'Close': 'mean',\n",
    "    'Volume': 'sum'\n",
    "})\n",
    "\n",
    "sector_stats['Return'] = (sector_stats['Close'] - sector_stats['Open']) / sector_stats['Open']\n",
    "\n",
    "# Display the results\n",
    "print(sector_stats)\n"
   ]
  },
  {
   "cell_type": "code",
   "execution_count": 20,
   "metadata": {},
   "outputs": [
    {
     "name": "stdout",
     "output_type": "stream",
     "text": [
      "            UNRATE\n",
      "DATE              \n",
      "2020-01-01     3.5\n",
      "2020-02-01     3.5\n",
      "2020-03-01     4.4\n",
      "2020-04-01    14.7\n",
      "2020-05-01    13.2\n",
      "2020-06-01    11.0\n",
      "2020-07-01    10.2\n",
      "2020-08-01     8.4\n",
      "2020-09-01     7.9\n",
      "2020-10-01     6.9\n",
      "2020-11-01     6.7\n",
      "2020-12-01     6.7\n",
      "2021-01-01     6.3\n",
      "2021-02-01     6.2\n",
      "2021-03-01     6.1\n",
      "2021-04-01     6.1\n",
      "2021-05-01     5.8\n",
      "2021-06-01     5.9\n",
      "2021-07-01     5.4\n",
      "2021-08-01     5.2\n",
      "2021-09-01     4.8\n",
      "2021-10-01     4.5\n",
      "2021-11-01     4.2\n",
      "2021-12-01     3.9\n",
      "2022-01-01     4.0\n",
      "2022-02-01     3.8\n"
     ]
    }
   ],
   "source": [
    "import pandas_datareader.data as web\n",
    "\n",
    "# Download the GDP data from FRED\n",
    "gdp = web.DataReader('UNRATE', 'fred', start='2020-01-01', end='2022-02-15')   # UNRATE , GDP , ....\n",
    "\n",
    "print(gdp)\n",
    "\n",
    "# Merge the GDP data with the existing data\n",
    "#df = pd.merge(dfs, gdp, how='left', left_index=True, right_index=True)\n"
   ]
  },
  {
   "cell_type": "code",
   "execution_count": null,
   "metadata": {},
   "outputs": [],
   "source": []
  }
 ],
 "metadata": {
  "kernelspec": {
   "display_name": "Python 3",
   "language": "python",
   "name": "python3"
  },
  "language_info": {
   "codemirror_mode": {
    "name": "ipython",
    "version": 3
   },
   "file_extension": ".py",
   "mimetype": "text/x-python",
   "name": "python",
   "nbconvert_exporter": "python",
   "pygments_lexer": "ipython3",
   "version": "3.11.2"
  },
  "orig_nbformat": 4,
  "vscode": {
   "interpreter": {
    "hash": "5b348fca72b2f7b5d298eae5c943a38b2c1fc0905995910a8a935ddb3ba2538e"
   }
  }
 },
 "nbformat": 4,
 "nbformat_minor": 2
}
