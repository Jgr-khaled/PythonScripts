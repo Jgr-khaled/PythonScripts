{
 "cells": [
  {
   "attachments": {},
   "cell_type": "markdown",
   "metadata": {},
   "source": [
    " A Network Graph of the Correlations between three Stocks with Interactive Features."
   ]
  },
  {
   "cell_type": "code",
   "execution_count": 1,
   "metadata": {},
   "outputs": [
    {
     "data": {
      "application/vnd.jupyter.widget-view+json": {
       "model_id": "8fd8dd93fedb48ada79a829473c855be",
       "version_major": 2,
       "version_minor": 0
      },
      "text/plain": [
       "interactive(children=(IntSlider(value=10, description='Threshold:'), Output()), _dom_classes=('widget-interact…"
      ]
     },
     "metadata": {},
     "output_type": "display_data"
    },
    {
     "data": {
      "application/vnd.jupyter.widget-view+json": {
       "model_id": "11706e230c6b4ca38188132763cf7939",
       "version_major": 2,
       "version_minor": 0
      },
      "text/plain": [
       "Dropdown(description='Stock:', options=('AAPL', 'TSLA', 'GOOGL'), value='AAPL')"
      ]
     },
     "metadata": {},
     "output_type": "display_data"
    },
    {
     "data": {
      "text/plain": [
       "<function __main__.create_graph(threshold)>"
      ]
     },
     "metadata": {},
     "output_type": "display_data"
    }
   ],
   "source": [
    "# Import the necessary libraries\n",
    "import yfinance as yf\n",
    "import networkx as nx\n",
    "import matplotlib.pyplot as plt\n",
    "from ipywidgets import interact, Dropdown, IntSlider\n",
    "\n",
    "# Define the stocks to include in the graph\n",
    "stocks = ['AAPL', 'TSLA', 'GOOGL']\n",
    "\n",
    "# Define a function to create the network graph\n",
    "def create_graph(threshold):\n",
    "    \n",
    "    # Get the stock data\n",
    "    data = yf.download(stocks, start='2020-01-01', end='2021-12-31')\n",
    "\n",
    "    # Calculate the correlation between the stock prices\n",
    "    corr_matrix = data['Close'].corr()\n",
    "\n",
    "    # Create a new empty graph\n",
    "    G = nx.Graph()\n",
    "\n",
    "    # Add the nodes to the graph\n",
    "    for stock in stocks:\n",
    "        G.add_node(stock)\n",
    "\n",
    "    # Add the edges to the graph\n",
    "    for i, stock1 in enumerate(stocks):\n",
    "        for j, stock2 in enumerate(stocks):\n",
    "            if i < j:\n",
    "                corr = corr_matrix.loc[stock1, stock2]\n",
    "                if abs(corr) > threshold:\n",
    "                    G.add_edge(stock1, stock2, weight=corr)\n",
    "\n",
    "    # Draw the nodes and edges of the graph\n",
    "    pos = nx.spring_layout(G)\n",
    "    nx.draw_networkx_nodes(G, pos, node_color='lightblue', node_size=1000)\n",
    "    nx.draw_networkx_labels(G, pos, font_size=12, font_family='sans-serif')\n",
    "    nx.draw_networkx_edges(G, pos, width=2)\n",
    "\n",
    "    # Add edge labels\n",
    "    labels = nx.get_edge_attributes(G, 'weight')\n",
    "    nx.draw_networkx_edge_labels(G, pos, edge_labels=labels, font_size=10)\n",
    "\n",
    "    # Show the graph\n",
    "    plt.axis('off')\n",
    "    plt.show()\n",
    "\n",
    "# Define the interactive features\n",
    "threshold_slider = IntSlider(value=10, min=0, max=100, step=1, description='Threshold:')\n",
    "interactive_graph = interact(create_graph, threshold=threshold_slider)\n",
    "\n",
    "# Show the interactive features\n",
    "display( Dropdown(options=stocks, value='AAPL', description='Stock:'), interactive_graph)\n"
   ]
  }
 ],
 "metadata": {
  "kernelspec": {
   "display_name": "Python 3",
   "language": "python",
   "name": "python3"
  },
  "language_info": {
   "codemirror_mode": {
    "name": "ipython",
    "version": 3
   },
   "file_extension": ".py",
   "mimetype": "text/x-python",
   "name": "python",
   "nbconvert_exporter": "python",
   "pygments_lexer": "ipython3",
   "version": "3.11.7"
  },
  "orig_nbformat": 4,
  "vscode": {
   "interpreter": {
    "hash": "5b348fca72b2f7b5d298eae5c943a38b2c1fc0905995910a8a935ddb3ba2538e"
   }
  }
 },
 "nbformat": 4,
 "nbformat_minor": 2
}
