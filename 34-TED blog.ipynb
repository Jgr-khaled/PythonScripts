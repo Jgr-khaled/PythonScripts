{
 "cells": [
  {
   "attachments": {},
   "cell_type": "markdown",
   "metadata": {},
   "source": [
    "Extracting the headlines and paragraph from TED blog.\n"
   ]
  },
  {
   "cell_type": "code",
   "execution_count": 172,
   "metadata": {},
   "outputs": [
    {
     "name": "stdout",
     "output_type": "stream",
     "text": [
      "HOW DO TOP ATHLETES GET INTO THE ZONE? BY GETTING UNCOMFORTABLE \n",
      " Ever wish you had a switch you could just turn whenever you needed to be super-focused? In this excerpt from TED’s “Good Sport” podcast, the host speaks to NBA All-Star Steph Curry and sports psychologist Dr. Nicole Detling to learn a thing or two about getting there.\n",
      "\n",
      "  \n",
      "----------------------------------------------------------------------------------------------------------------------------------------------------------------\n",
      "  \n",
      "\n",
      "6 THINGS PEOPLE DO AROUND THE WORLD TO SLOW DOWN \n",
      " Is living too fast turning your life into a blur? Catch your breath by trying out these calming traditions from other countries and cultures, says writer Carl Honoré. \n",
      "\n",
      "  \n",
      "----------------------------------------------------------------------------------------------------------------------------------------------------------------\n",
      "  \n",
      "\n",
      "HERE’S HOW YOU CAN HANDLE STRESS LIKE A LION, NOT A GAZELLE \n",
      " It’s all about being able to see the daily nerve-racking events in your life as challenges — instead of threats — and stress expert Elissa Epel PhD explains how we can all start to make this shift. \n",
      "\n",
      "  \n",
      "----------------------------------------------------------------------------------------------------------------------------------------------------------------\n",
      "  \n",
      "\n",
      "CREATING A CONTRACT — YES, A CONTRACT! — COULD HELP YOU GET WHAT YOU WANT FROM YOUR RELATIONSHIP \n",
      " Writing a contract about every part of your relationship — from sex to money, housework to the dog — may sound clinical or calculating, but the practice has been transformative for author Mandy Len Catron and her partner.  \n",
      "\n",
      "  \n",
      "----------------------------------------------------------------------------------------------------------------------------------------------------------------\n",
      "  \n",
      "\n",
      "HOW TO ADD NEW LIFE TO YOUR RELATIONSHIPS (EVEN YOUR BEST ONES!) \n",
      " Want lasting happiness? Invest in your connections to other people, suggest Robert Waldinger MD and Marc Schulz PhD, codirectors of the longest-running scientific study on well-being. Here, they share four strategies to re-energize your bonds. \n",
      "\n",
      "  \n",
      "----------------------------------------------------------------------------------------------------------------------------------------------------------------\n",
      "  \n",
      "\n",
      "COULD YOUR LIFE STORY USE AN UPDATE? HERE’S HOW TO DO IT  \n",
      " Storytelling allows us to take events that are exceptional, unforeseen or out of the ordinary and convert them into meaningful, manageable chapters in our lives. Author Bruce Feiler shares three tips to help you tell a more effective life story:  \n",
      "\n",
      "  \n",
      "----------------------------------------------------------------------------------------------------------------------------------------------------------------\n",
      "  \n",
      "\n",
      "6 TIPS TO HELP YOU BE A BETTER HUMAN NOW \n",
      " Podcast host Chris Duffy spends his days talking to a diverse group of experts in order to answer one question: “How can I be a better human?” Here’s the advice that has really stuck with him and he’s tried to use in his own life. \n",
      "\n",
      "  \n",
      "----------------------------------------------------------------------------------------------------------------------------------------------------------------\n",
      "  \n",
      "\n"
     ]
    }
   ],
   "source": [
    "from selenium import webdriver\n",
    "from selenium.webdriver.common.action_chains import ActionChains\n",
    "from selenium.webdriver.common.by import By\n",
    "from selenium.webdriver.support.ui import WebDriverWait\n",
    "from selenium.webdriver.support import expected_conditions as EC\n",
    "from selenium.common.exceptions import NoSuchElementException\n",
    "from selenium.webdriver.common.keys import Keys\n",
    "\n",
    "from bs4 import BeautifulSoup\n",
    "import requests\n",
    "\n",
    "\n",
    "url = 'https://ideas.ted.com/'\n",
    "\n",
    "# Create a new instance of the Chrome driver\n",
    "driver = webdriver.Chrome(executable_path = 'chromedriver'  )\n",
    "\n",
    "# Navigate to the website you want to interact with\n",
    "driver.get(url)       \n",
    "\n",
    "# Create an instance of ActionChains\n",
    "actions = ActionChains(driver)\n",
    "\n",
    "\n",
    "response = requests.get(url)\n",
    "soup = BeautifulSoup(response.content, 'lxml')\n",
    "articles = soup.find_all('p')\n",
    "\n",
    "\n",
    "# Find the element  \n",
    "questions = driver.find_elements(By.CLASS_NAME , 'block-entry-title' )  \n",
    "\n",
    "for article, question in zip(articles,questions):\n",
    "    \n",
    "    print(question.text, '\\n', article.text)\n",
    "\n",
    "    print('\\n  \\n' +'-'*160 + '\\n  \\n')\n"
   ]
  },
  {
   "cell_type": "code",
   "execution_count": 173,
   "metadata": {},
   "outputs": [],
   "source": [
    "driver.execute_script(\"window.scrollTo(0, document.body.scrollHeight);\")\n"
   ]
  },
  {
   "cell_type": "code",
   "execution_count": 174,
   "metadata": {},
   "outputs": [
    {
     "data": {
      "text/plain": [
       "8524"
      ]
     },
     "execution_count": 174,
     "metadata": {},
     "output_type": "execute_result"
    }
   ],
   "source": [
    "driver.execute_script(\"return document.body.scrollHeight\")\n"
   ]
  },
  {
   "cell_type": "code",
   "execution_count": 175,
   "metadata": {},
   "outputs": [
    {
     "data": {
      "text/plain": [
       "2396.800048828125"
      ]
     },
     "execution_count": 175,
     "metadata": {},
     "output_type": "execute_result"
    }
   ],
   "source": [
    "driver.execute_script(\"return window.pageYOffset\")"
   ]
  },
  {
   "cell_type": "code",
   "execution_count": 176,
   "metadata": {},
   "outputs": [
    {
     "data": {
      "text/plain": [
       "674"
      ]
     },
     "execution_count": 176,
     "metadata": {},
     "output_type": "execute_result"
    }
   ],
   "source": [
    "driver.execute_script(\"return window.innerHeight\")"
   ]
  },
  {
   "cell_type": "code",
   "execution_count": 181,
   "metadata": {},
   "outputs": [
    {
     "name": "stdout",
     "output_type": "stream",
     "text": [
      "hallo\n"
     ]
    }
   ],
   "source": [
    "while True:\n",
    "    \n",
    "    pre = driver.execute_script(\"return window.pageYOffset\" )\n",
    "    inner = driver.execute_script(\"return window.innerHeight\")\n",
    "    #pre = driver.execute_script(\"return document.body.scrollHeight\" )\n",
    "    driver.find_element(By.TAG_NAME, 'body').send_keys(Keys.END)\n",
    "    End = driver.execute_script(\"return document.body.scrollHeight\" )\n",
    "\n",
    "    if End == pre +inner :\n",
    "        print('hallo')\n",
    "        break\n",
    "    \n",
    "\n",
    "    "
   ]
  }
 ],
 "metadata": {
  "kernelspec": {
   "display_name": "Python 3",
   "language": "python",
   "name": "python3"
  },
  "language_info": {
   "codemirror_mode": {
    "name": "ipython",
    "version": 3
   },
   "file_extension": ".py",
   "mimetype": "text/x-python",
   "name": "python",
   "nbconvert_exporter": "python",
   "pygments_lexer": "ipython3",
   "version": "3.11.2"
  },
  "orig_nbformat": 4,
  "vscode": {
   "interpreter": {
    "hash": "5b348fca72b2f7b5d298eae5c943a38b2c1fc0905995910a8a935ddb3ba2538e"
   }
  }
 },
 "nbformat": 4,
 "nbformat_minor": 2
}
