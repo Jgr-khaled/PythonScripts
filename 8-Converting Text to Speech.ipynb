{
 "cells": [
  {
   "attachments": {},
   "cell_type": "markdown",
   "metadata": {},
   "source": [
    "Converting Text to Speech"
   ]
  },
  {
   "cell_type": "code",
   "execution_count": 2,
   "metadata": {},
   "outputs": [],
   "source": [
    "\n",
    "from gtts import gTTS\n",
    "from playsound import playsound\n",
    "\n",
    "# specify the text you want to convert to speech\n",
    "text = \"Ich begrüße euch alle herzlich zu dieser Veranstaltung. Wir sind hier heute zusammengekommen, um über ein sehr wichtiges Thema zu sprechen. \\\n",
    "    Es geht darum, wie wir unsere Gesellschaft besser machen können und wie wir für eine bessere Zukunft für uns alle sorgen können.\"\n",
    "\n",
    "# create an instance of gTTS class\n",
    "speech = gTTS(text=text, lang='de', slow=False)\n",
    "\n",
    "# save the converted audio to a file\n",
    "speech.save(\"hello.mp3\")\n",
    "\n",
    "# play the saved audio file\n",
    "playsound(\"hello.mp3\")\n"
   ]
  }
 ],
 "metadata": {
  "kernelspec": {
   "display_name": "Python 3",
   "language": "python",
   "name": "python3"
  },
  "language_info": {
   "codemirror_mode": {
    "name": "ipython",
    "version": 3
   },
   "file_extension": ".py",
   "mimetype": "text/x-python",
   "name": "python",
   "nbconvert_exporter": "python",
   "pygments_lexer": "ipython3",
   "version": "3.11.2"
  },
  "orig_nbformat": 4,
  "vscode": {
   "interpreter": {
    "hash": "5b348fca72b2f7b5d298eae5c943a38b2c1fc0905995910a8a935ddb3ba2538e"
   }
  }
 },
 "nbformat": 4,
 "nbformat_minor": 2
}
