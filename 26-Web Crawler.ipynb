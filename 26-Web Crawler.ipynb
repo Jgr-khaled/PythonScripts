{
 "cells": [
  {
   "attachments": {},
   "cell_type": "markdown",
   "metadata": {},
   "source": [
    "WEB Crawler using Beautifulsoup."
   ]
  },
  {
   "cell_type": "code",
   "execution_count": 4,
   "metadata": {},
   "outputs": [],
   "source": [
    "\n",
    "import requests\n",
    "from bs4 import BeautifulSoup\n",
    "import json\n",
    "import pandas as pd\n",
    "\n",
    "\n",
    "url = 'https://www.zdf.de/sitemaps/sitemap_1.xml'\n",
    "response = requests.get(url)\n",
    "soup = BeautifulSoup(response.text, \"lxml\")\n",
    "\n",
    "\n",
    "#df = pd.DataFrame(columns=['url', 'title', 'text'])\n",
    "\n",
    "for link in soup.find_all('a'):\n",
    "    page_url = link.get('href')\n",
    "\n",
    "    if page_url and page_url.startswith('https'):\n",
    "        try:\n",
    "            page_response = requests.get(page_url)\n",
    "            page_soup = BeautifulSoup(page_response.text, \"lxml\" )\n",
    "            \n",
    "            data = {\n",
    "                'url': page_url,\n",
    "                'title': page_soup.title.string,\n",
    "                'text': [p.text for p in page_soup.find_all('p')],\n",
    "                }\n",
    "\n",
    "            print( \"\\n\\n\" ,data)\n",
    "\n",
    "            with open('Ted.json', 'a') as f:\n",
    "                f.write(json.dumps(data) + '\\n')\n",
    "            \n",
    "        except requests.exceptions.RequestException as e:\n",
    "                # Handle any errors that occur during the request\n",
    "                print(e)\n",
    "\n",
    "\n",
    "\n"
   ]
  }
 ],
 "metadata": {
  "kernelspec": {
   "display_name": "Python 3",
   "language": "python",
   "name": "python3"
  },
  "language_info": {
   "codemirror_mode": {
    "name": "ipython",
    "version": 3
   },
   "file_extension": ".py",
   "mimetype": "text/x-python",
   "name": "python",
   "nbconvert_exporter": "python",
   "pygments_lexer": "ipython3",
   "version": "3.11.2"
  },
  "orig_nbformat": 4,
  "vscode": {
   "interpreter": {
    "hash": "5b348fca72b2f7b5d298eae5c943a38b2c1fc0905995910a8a935ddb3ba2538e"
   }
  }
 },
 "nbformat": 4,
 "nbformat_minor": 2
}
