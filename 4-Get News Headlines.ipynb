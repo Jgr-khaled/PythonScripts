{
 "cells": [
  {
   "cell_type": "code",
   "execution_count": 1,
   "metadata": {},
   "outputs": [
    {
     "name": "stdout",
     "output_type": "stream",
     "text": [
      "\n",
      " Today's NEWS  2010-06-01 00:00:00 \n",
      "\n",
      "96\n",
      "\n",
      " Today's NEWS  2010-06-02 00:00:00 \n",
      "\n",
      "96\n",
      "URL does not match pattern\n"
     ]
    }
   ],
   "source": [
    "import requests\n",
    "from bs4 import BeautifulSoup\n",
    "\n",
    "import re\n",
    "from datetime import datetime\n",
    "import datetime as dt\n",
    "\n",
    "\n",
    "\n",
    "\n",
    "# Create a regular expression pattern to match the URL\n",
    "#pattern = f\"https://web.archive.org/web/{date_str}.*/https://news.yahoo.com\"\n",
    "\n",
    "# Use the pattern to match the URL\n",
    "url = \"https://web.archive.org/web/20230215021210/https://news.yahoo.com/\"\n",
    "\n",
    "\n",
    "# Define the start time and end time\n",
    "start_time = datetime(2010, 6, 1)  # 2022-02-01 00:00:00\n",
    "end_time = datetime(2010, 6, 2)  # 2022-02-28 23:59:59\n",
    "\n",
    "# Define the time step between datetimes (1 day in this example)\n",
    "time_step = dt.timedelta(days=1)\n",
    "\n",
    "# Generate a list of datetimes between the start time and end time\n",
    "#datetime_list = []\n",
    "current_time = start_time\n",
    "\n",
    "while current_time <= end_time:\n",
    "    \n",
    "    # Format the date as a string in YYYY-MM-DD format\n",
    "    date_str = current_time.strftime('%Y%m%d')\n",
    "\n",
    "    # Create a regular expression pattern to match the URL\n",
    "    pattern = f\"https://web.archive.org/web/{date_str}.*/https://news.yahoo.com\"\n",
    "    \n",
    "    response = requests.get(pattern)\n",
    "    soup = BeautifulSoup(response.content, 'lxml')\n",
    "    headline_links = soup.find_all('a', class_=['showtt', 'yltasis'])\n",
    "\n",
    "    headlines = [link.get_text().strip() for link in headline_links]\n",
    "    print(\"\\n Today's NEWS \", current_time ,'\\n')\n",
    "    print(len(headlines))\n",
    "\n",
    "    current_time += time_step    \n",
    "\n",
    "\n",
    "\n",
    "if re.match(pattern, url):\n",
    "    print(\"URL matches pattern\")\n",
    "else:\n",
    "    print(\"URL does not match pattern\")\n"
   ]
  }
 ],
 "metadata": {
  "kernelspec": {
   "display_name": "Python 3",
   "language": "python",
   "name": "python3"
  },
  "language_info": {
   "codemirror_mode": {
    "name": "ipython",
    "version": 3
   },
   "file_extension": ".py",
   "mimetype": "text/x-python",
   "name": "python",
   "nbconvert_exporter": "python",
   "pygments_lexer": "ipython3",
   "version": "3.11.2"
  },
  "orig_nbformat": 4,
  "vscode": {
   "interpreter": {
    "hash": "5b348fca72b2f7b5d298eae5c943a38b2c1fc0905995910a8a935ddb3ba2538e"
   }
  }
 },
 "nbformat": 4,
 "nbformat_minor": 2
}
