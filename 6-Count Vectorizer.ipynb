{
 "cells": [
  {
   "cell_type": "code",
   "execution_count": 8,
   "metadata": {},
   "outputs": [
    {
     "name": "stdout",
     "output_type": "stream",
     "text": [
      "['and' 'document' 'first' 'is' 'one' 'second' 'the' 'third' 'this']\n",
      "[[0 1 1 1 0 0 1 0 1]\n",
      " [0 2 0 1 0 1 1 0 1]\n",
      " [1 0 0 1 1 0 1 1 1]\n",
      " [0 1 1 1 0 0 1 0 1]]\n",
      "['and this' 'and this is' 'document is' 'document is the' 'first document'\n",
      " 'is the' 'is the first' 'is the second' 'is the third' 'is this'\n",
      " 'is this the' 'second document' 'the first' 'the first document'\n",
      " 'the second' 'the second document' 'the third' 'the third one'\n",
      " 'third one' 'this document' 'this document is' 'this is' 'this is the'\n",
      " 'this the' 'this the first']\n",
      "[[0 0 0 0 1 1 1 0 0 0 0 0 1 1 0 0 0 0 0 0 0 1 1 0 0]\n",
      " [0 0 1 1 0 1 0 1 0 0 0 1 0 0 1 1 0 0 0 1 1 0 0 0 0]\n",
      " [1 1 0 0 0 1 0 0 1 0 0 0 0 0 0 0 1 1 1 0 0 1 1 0 0]\n",
      " [0 0 0 0 1 0 0 0 0 1 1 0 1 1 0 0 0 0 0 0 0 0 0 1 1]]\n",
      "['first' 'document' 'third']\n",
      "  (0, 0)\t1\n",
      "  (0, 1)\t1\n",
      "  (1, 1)\t2\n",
      "  (2, 2)\t1\n",
      "  (3, 0)\t1\n",
      "  (3, 1)\t1\n",
      "   first  document  third\n",
      "0      1         1      0\n",
      "1      0         2      0\n",
      "2      0         0      1\n",
      "3      1         1      0\n"
     ]
    }
   ],
   "source": [
    "from sklearn.feature_extraction.text import CountVectorizer\n",
    "import pandas as pd\n",
    "\n",
    "corpus = [\n",
    "        'This is the first document.',\n",
    "        'This document is the second document.',\n",
    "        'And this is the third one.',\n",
    "        'Is this the first document?'\n",
    "        ]\n",
    "\n",
    "#vectorizer = CountVectorizer(stop_words='english')\n",
    "vectorizer = CountVectorizer()\n",
    "X = vectorizer.fit_transform(corpus)\n",
    "\n",
    "print(vectorizer.get_feature_names_out())\n",
    "\n",
    "print(X.toarray())\n",
    "    \n",
    "vectorizer2 = CountVectorizer(analyzer='word', ngram_range=(2, 3))\n",
    "X2 = vectorizer2.fit_transform(corpus)\n",
    "\n",
    "print(vectorizer2.get_feature_names_out())\n",
    "\n",
    "print(X2.toarray())\n",
    "\n",
    "vocabulary = ['first', 'document', 'third']\n",
    "vect = CountVectorizer(vocabulary=vocabulary)\n",
    "X3 = vect.fit_transform(corpus)\n",
    "df = pd.DataFrame(X3.toarray(), columns=vect.get_feature_names_out())\n",
    "\n",
    "\n",
    "print(vect.get_feature_names_out())\n",
    "print(X3)\n",
    "print(df)\n"
   ]
  }
 ],
 "metadata": {
  "kernelspec": {
   "display_name": "Python 3",
   "language": "python",
   "name": "python3"
  },
  "language_info": {
   "codemirror_mode": {
    "name": "ipython",
    "version": 3
   },
   "file_extension": ".py",
   "mimetype": "text/x-python",
   "name": "python",
   "nbconvert_exporter": "python",
   "pygments_lexer": "ipython3",
   "version": "3.11.2"
  },
  "orig_nbformat": 4,
  "vscode": {
   "interpreter": {
    "hash": "5b348fca72b2f7b5d298eae5c943a38b2c1fc0905995910a8a935ddb3ba2538e"
   }
  }
 },
 "nbformat": 4,
 "nbformat_minor": 2
}
