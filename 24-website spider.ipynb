{
 "cells": [
  {
   "cell_type": "markdown",
   "metadata": {},
   "source": []
  },
  {
   "cell_type": "code",
   "execution_count": 20,
   "metadata": {},
   "outputs": [
    {
     "ename": "SyntaxError",
     "evalue": "invalid syntax (1986056275.py, line 1)",
     "output_type": "error",
     "traceback": [
      "\u001b[1;36m  Cell \u001b[1;32mIn[20], line 1\u001b[1;36m\u001b[0m\n\u001b[1;33m    scrapy startproject myproject\u001b[0m\n\u001b[1;37m           ^\u001b[0m\n\u001b[1;31mSyntaxError\u001b[0m\u001b[1;31m:\u001b[0m invalid syntax\n"
     ]
    }
   ],
   "source": [
    "scrapy startproject myproject\n"
   ]
  },
  {
   "cell_type": "code",
   "execution_count": null,
   "metadata": {},
   "outputs": [],
   "source": [
    "import scrapy\n",
    "\n",
    "class MySpider(scrapy.Spider):\n",
    "    name = 'myspider'\n",
    "    start_urls = ['https://www.example.com']\n",
    "\n",
    "    def parse(self, response):\n",
    "        # Extract the title of the page\n",
    "        title = response.css('title::text').get()\n",
    "\n",
    "        # Print the title to the console\n",
    "        print(title)\n",
    "\n",
    "        # Follow links to other pages and parse them\n",
    "        for href in response.css('a::attr(href)'):\n",
    "            yield response.follow(href, self.parse)\n"
   ]
  },
  {
   "cell_type": "code",
   "execution_count": 21,
   "metadata": {},
   "outputs": [],
   "source": [
    "import scrapy \n",
    "import json\n",
    "\n",
    "\n",
    "class WebsiteSpider(scrapy.Spider):\n",
    "    name = \"myspider\"\n",
    "    allowed_domains = [\"britannica.com/\"]\n",
    "    start_urls = [\"https://www.britannica.com\"]\n",
    "\n",
    "    def parse(self, response):\n",
    "        # Extract links from the current page\n",
    "        links = response.css(\"a::attr(href)\").extract()\n",
    "\n",
    "        # Follow each link and call the `parse_page` function\n",
    "        for link in links:\n",
    "            yield scrapy.Request(url=link, callback=self.parse_page)\n",
    "\n",
    "    def parse_page(self, response):\n",
    "        # Extract data from the current page\n",
    "        data = {\n",
    "            'url': response.url,\n",
    "            'title': response.css('title::text').get(),\n",
    "            'text': response.css('p::text').getall(),\n",
    "        }\n",
    "\n",
    "        yield data\n",
    "\n",
    "        # Save the data to a JSON file\n",
    "        with open('outputt.json', 'a') as f:\n",
    "            f.write(json.dumps(data) + '\\n')\n",
    "\n",
    "       \n"
   ]
  },
  {
   "cell_type": "code",
   "execution_count": 8,
   "metadata": {},
   "outputs": [],
   "source": [
    "import json \n",
    "\n",
    "data = {\n",
    "            'title' : 'fdfd',\n",
    "            'content':'dsdsf'\n",
    "        }\n",
    "with open('output.json', 'a') as f:\n",
    "            json.dump(data, f)\n",
    "            f.write('\\n')\n",
    "\n"
   ]
  },
  {
   "cell_type": "code",
   "execution_count": 12,
   "metadata": {},
   "outputs": [
    {
     "ename": "ModuleNotFoundError",
     "evalue": "No module named 'myproject'",
     "output_type": "error",
     "traceback": [
      "\u001b[1;31m---------------------------------------------------------------------------\u001b[0m",
      "\u001b[1;31mModuleNotFoundError\u001b[0m                       Traceback (most recent call last)",
      "Cell \u001b[1;32mIn[12], line 2\u001b[0m\n\u001b[0;32m      1\u001b[0m \u001b[39mfrom\u001b[39;00m \u001b[39mscrapy\u001b[39;00m\u001b[39m.\u001b[39;00m\u001b[39mcrawler\u001b[39;00m \u001b[39mimport\u001b[39;00m CrawlerProcess\n\u001b[1;32m----> 2\u001b[0m \u001b[39mfrom\u001b[39;00m \u001b[39mmyproject\u001b[39;00m\u001b[39m.\u001b[39;00m\u001b[39mspiders\u001b[39;00m\u001b[39m.\u001b[39;00m\u001b[39mwebsite_spider\u001b[39;00m \u001b[39mimport\u001b[39;00m WebsiteSpider\n\u001b[0;32m      4\u001b[0m process \u001b[39m=\u001b[39m CrawlerProcess()\n\u001b[0;32m      6\u001b[0m process\u001b[39m.\u001b[39mcrawl(WebsiteSpider)\n",
      "\u001b[1;31mModuleNotFoundError\u001b[0m: No module named 'myproject'"
     ]
    }
   ],
   "source": [
    "from scrapy.crawler import CrawlerProcess\n",
    "from myproject.spiders.website_spider import WebsiteSpider\n",
    "\n",
    "process = CrawlerProcess()\n",
    "\n",
    "process.crawl(WebsiteSpider)\n",
    "\n",
    "process.start()\n"
   ]
  }
 ],
 "metadata": {
  "kernelspec": {
   "display_name": "Python 3",
   "language": "python",
   "name": "python3"
  },
  "language_info": {
   "codemirror_mode": {
    "name": "ipython",
    "version": 3
   },
   "file_extension": ".py",
   "mimetype": "text/x-python",
   "name": "python",
   "nbconvert_exporter": "python",
   "pygments_lexer": "ipython3",
   "version": "3.11.2"
  },
  "orig_nbformat": 4,
  "vscode": {
   "interpreter": {
    "hash": "5b348fca72b2f7b5d298eae5c943a38b2c1fc0905995910a8a935ddb3ba2538e"
   }
  }
 },
 "nbformat": 4,
 "nbformat_minor": 2
}
