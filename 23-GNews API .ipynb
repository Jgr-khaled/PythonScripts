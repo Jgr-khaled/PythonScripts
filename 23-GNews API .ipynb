{
 "cells": [
  {
   "cell_type": "code",
   "execution_count": 16,
   "metadata": {},
   "outputs": [
    {
     "name": "stdout",
     "output_type": "stream",
     "text": [
      "Title: Healthtech Startup Vial CEO Asked Workers for Positive Glassdoor Reviews\n",
      "Description: Months after it had layoffs, Vial's CEO asked its remaining employees to write positive Glassdoor reviews to counter negative ones on the site.\n",
      " {'title': 'Healthtech Startup Vial CEO Asked Workers for Positive Glassdoor Reviews', 'description': \"Months after it had layoffs, Vial's CEO asked its remaining employees to write positive Glassdoor reviews to counter negative ones on the site.\", 'content': \"Vial's CEO asked workers to post positive Glassdoor reviews to counter negative ones, Insider found.\\nIn a month, 20 positive reviews for Vial flooded the site, raising its rating from one to 3.8 stars.\\nThe request came two months after the buzzy heal... [4110 chars]\", 'url': 'https://markets.businessinsider.com/news/stocks/healthtech-startup-vial-ceo-asked-workers-for-positive-glassdoor-reviews-2023-1', 'image': 'https://i.insider.com/63d3fe414589790018e57bee?width=1200&format=jpeg', 'publishedAt': '2023-01-31T05:00:00Z', 'source': {'name': 'Business Insider', 'url': 'https://markets.businessinsider.com'}}\n",
      "Title: Google, Bain & Company make Glassdoor Best Places to Work since 2009\n",
      "Description: Since 2009, Glassdoor has recognized the best places to work with its annual Employees' Choice Awards. Only two companies have made the cut every year.\n",
      " {'title': 'Google, Bain & Company make Glassdoor Best Places to Work since 2009', 'description': \"Since 2009, Glassdoor has recognized the best places to work with its annual Employees' Choice Awards. Only two companies have made the cut every year.\", 'content': \"For the last 15 years, Glassdoor has recognized the best places to work in the U.S. and four other countries with its annual Employees' Choice Awards. And since the awards began in 2009, only two companies have made the cut every year: Bain & Company... [2140 chars]\", 'url': 'https://www.cnbc.com/2023/01/13/google-bain-company-make-glassdoor-best-places-to-work-since-2009.html', 'image': 'https://image.cnbcfm.com/api/v1/image/107174527-1672936231120-gettyimages-1243527327-AA_26092022_878851.jpeg?v=1673635844&w=1920&h=1080', 'publishedAt': '2023-01-13T18:50:44Z', 'source': {'name': 'CNBC', 'url': 'https://www.cnbc.com'}}\n",
      "Title: 10 Mass. businesses make Glassdoor's 2023 list of best large companies to work for\n",
      "Description: Glassdoor's annual ranking of best places to work is based off of employee reviews. Read more on Boston.com.\n",
      " {'title': \"10 Mass. businesses make Glassdoor's 2023 list of best large companies to work for\", 'description': \"Glassdoor's annual ranking of best places to work is based off of employee reviews. Read more on Boston.com.\", 'content': \"Business 10 Mass. businesses make Glassdoor’s 2023 list of best large companies to work for The annual ranking is based off employee reviews. Cambridge software company HubSpot was ranked 11th on Glassdoor's annual list of best large places to work. ... [1819 chars]\", 'url': 'https://www.boston.com/news/business/2023/01/13/massachusetts-businesses-glassdoor-2023-best-places-to-work/', 'image': 'https://www.boston.com/wp-content/uploads/2016/04/prd-meth01-idx-bg.boston-3-4-scaled.jpg', 'publishedAt': '2023-01-13T15:48:37Z', 'source': {'name': 'Boston.com', 'url': 'https://www.boston.com'}}\n",
      "Title: Apple and Meta dropped off Glassdoor's 100 Best Places to Work List\n",
      "Description: A Glassdoor economist explains why Apple and Meta aren't on their 2023 Best Places to Work list for the first time in over a decade.\n",
      " {'title': \"Apple and Meta dropped off Glassdoor's 100 Best Places to Work List\", 'description': \"A Glassdoor economist explains why Apple and Meta aren't on their 2023 Best Places to Work list for the first time in over a decade.\", 'content': 'For years, Apple and Meta have been deemed the creme de la creme of tech companies, with employees raving about their culture, values, benefits and perks. But according to new data from Glassdoor, both tech giants no longer stand out the way they onc... [3430 chars]', 'url': 'https://www.cnbc.com/2023/01/11/apple-and-meta-dropped-off-glassdoors-100-best-places-to-work-list-.html', 'image': 'https://image.cnbcfm.com/api/v1/image/107168203-1671453301604-gettyimages-1239256964-RAFAPRESS_16032022-2772.jpeg?v=1673457945&w=1920&h=1080', 'publishedAt': '2023-01-11T17:25:45Z', 'source': {'name': 'CNBC', 'url': 'https://www.cnbc.com'}}\n",
      "Title: The 10 best U.S. places to work in 2023, according to Glassdoor\n",
      "Description: These companies offer ample opportunities for career advancement, robust health care benefits and remote or hybrid work opportunities, among other benefits.\n",
      " {'title': 'The 10 best U.S. places to work in 2023, according to Glassdoor', 'description': 'These companies offer ample opportunities for career advancement, robust health care benefits and remote or hybrid work opportunities, among other benefits.', 'content': 'The Covid-19 pandemic triggered a historic quitting spree, and along with it, a re-evaluation among managers and workers of what makes a good workplace.\\nSome \"green flags\" remain unchanged — people will always seek out jobs with fair salaries, tolera... [1274 chars]', 'url': 'https://www.cnbc.com/2023/01/11/the-10-best-us-places-to-work-in-2023-according-to-glassdoor.html', 'image': 'https://image.cnbcfm.com/api/v1/image/107177247-1673454328248-gettyimages-1245214551-zawrzel-googleop221129_npYT9.jpeg?v=1673456770&w=1920&h=1080', 'publishedAt': '2023-01-11T17:06:10Z', 'source': {'name': 'CNBC', 'url': 'https://www.cnbc.com'}}\n",
      "Title: GLASSDOOR ANNOUNCES WINNERS OF ITS EMPLOYEES' CHOICE AWARDS RECOGNIZING THE BEST PLACES TO WORK 2023\n",
      "Description: Gainsight, Box and In-N-Out Burger Among Top Ten Employers; Goodwin Recruiting Claims Top Honor Among Small & Medium Companies\n",
      " {'title': \"GLASSDOOR ANNOUNCES WINNERS OF ITS EMPLOYEES' CHOICE AWARDS RECOGNIZING THE BEST PLACES TO WORK 2023\", 'description': 'Gainsight, Box and In-N-Out Burger Among Top Ten Employers; Goodwin Recruiting Claims Top Honor Among Small & Medium Companies', 'content': 'Gainsight, Box and In-N-Out Burger Among Top Ten Employers; Goodwin Recruiting Claims Top Honor Among Small & Medium Companies\\nSAN FRANCISCO, Jan. 11, 2023 /PRNewswire/ — Glassdoor , the worldwide leader on insights about jobs and companies, has anno... [6202 chars]', 'url': 'https://jimmyspost.com/glassdoor-announces-winners-of-its-employees-choice-awards-recognizing-the-best-places-to-work-2023', 'image': 'https://mma.prnewswire.com/media/449764/Glassdoor_Logo.jpg', 'publishedAt': '2023-01-11T13:43:51Z', 'source': {'name': 'Jimmys Post', 'url': 'https://jimmyspost.com'}}\n",
      "Title: Glassdoor's 2023 Best Workplaces List Includes These 10 Mass. Companies\n",
      "Description: Glassdoor’s 2023 best workplaces includes 10 Massachusetts companies\n",
      " {'title': \"Glassdoor's 2023 Best Workplaces List Includes These 10 Mass. Companies\", 'description': 'Glassdoor’s 2023 best workplaces includes 10 Massachusetts companies', 'content': 'Ten large Massachusetts-based companies have earned a spot on Glassdoor’s annual ranking of the 100 best places to work, up from nine last year.\\nBoston-based Bain & Company came in third place, while Natick’s Mathworks and Boston Consulting Group als... [1101 chars]', 'url': 'https://www.nbcboston.com/boston-business-journal/glassdoors-2023-best-workplaces-list-includes-these-10-mass-companies/2942349/', 'image': 'https://media.nbcboston.com/2021/09/hubspot-06900xx6202-4135-0-71.jpg?quality=85&strip=all&resize=1200%2C675', 'publishedAt': '2023-01-11T12:48:01Z', 'source': {'name': 'NBC10 Boston', 'url': 'https://www.nbcboston.com'}}\n",
      "Title: The 100 best places to work in 2023, according to Glassdoor\n",
      "Description: Gainsight, a software company, takes the No. 1 spot while Meta has fallen off the list completely\n",
      " {'title': 'The 100 best places to work in 2023, according to Glassdoor', 'description': 'Gainsight, a software company, takes the No. 1 spot while Meta has fallen off the list completely', 'content': 'Glassdoor, a site where employees can anonymously review their employers, rated Meta the best place to work in the US in 2018. Last year, Meta fell all the way to the No. 47 spot. This year? It isn’t even on the list.\\nAfter a bad year for tech compan... [2132 chars]', 'url': 'https://qz.com/gainsight-tops-list-of-best-places-to-work-in-2022-1849971903', 'image': 'https://i.kinja-img.com/gawker-media/image/upload/c_fill,f_auto,fl_progressive,g_center,h_675,pg_1,q_80,w_1200/c625ba6eba633325e8f37eb575bd3aa2.jpg', 'publishedAt': '2023-01-11T10:00:00Z', 'source': {'name': 'Quartz India', 'url': 'https://qz.com'}}\n",
      "Title: Meta, Apple Are No Longer Among Best Places to Work: Glassdoor\n",
      "Description: It's the first time the tech giants haven't made the list, which is determined by employee feedback, in over a decade.\n",
      " {'title': 'Meta, Apple Are No Longer Among Best Places to Work: Glassdoor', 'description': \"It's the first time the tech giants haven't made the list, which is determined by employee feedback, in over a decade.\", 'content': \"Meta and Apple fell off Glassdoor's list of best places to work for the first time in over a decade.\\nThe list highlights themes like flexibility and communication, as well as economic outlook.\\nOther tech companies like Google, LinkedIn, and Microsoft... [3440 chars]\", 'url': 'https://markets.businessinsider.com/news/stocks/meta-apple-no-longer-best-places-tech-companies-work-glassdoor-2023-1', 'image': 'https://i.insider.com/63bedccb66c28600194389a6?width=1200&format=jpeg', 'publishedAt': '2023-01-11T05:00:00Z', 'source': {'name': 'Business Insider', 'url': 'https://markets.businessinsider.com'}}\n",
      "Title: Here are the top places to work, according to their employees\n",
      "Description: Companies offering flexibility and a healthy work-life balance score high with workers, new Glassdoor ranking shows.\n",
      " {'title': 'Here are the top places to work, according to their employees', 'description': 'Companies offering flexibility and a healthy work-life balance score high with workers, new Glassdoor ranking shows.', 'content': 'Some of the best places to work in the U.S. include software firm Gainsight, cloud storage company Box and mental health services provider Telemynd, according to those who work there.\\nEmployees at those companies say they like their colleagues, enjoy... [3348 chars]', 'url': 'https://www.cbsnews.com/news/top-100-companies-to-work-glassdoor-us/', 'image': 'https://assets2.cbsnewsstatic.com/hub/i/r/2022/05/03/c797c652-7031-445f-b384-e5d4f7a6a085/thumbnail/1200x630/78387c850395fc73c20695a1e43116ea/slide39-in-n-out-burger-gettyimages-1310463376.jpg', 'publishedAt': '2023-01-11T04:59:15Z', 'source': {'name': 'CBS News', 'url': 'https://www.cbsnews.com'}}\n"
     ]
    }
   ],
   "source": [
    "# https://docs.python.org/3/library/json.html\n",
    "# This library will be used to parse the JSON data returned by the API.\n",
    "import json\n",
    "# https://docs.python.org/3/library/urllib.request.html#module-urllib.request\n",
    "# This library will be used to fetch the API.\n",
    "import urllib.request\n",
    "\n",
    "apikey = \"d63a32f04f8ffb676697168cfd71c556\"\n",
    "category = \"business\"\n",
    "search = \"Atlassian_Corporation\"\n",
    "\n",
    "url = f\"https://gnews.io/api/v4/search?q=Glassdoor&category={category}&lang=en&country=us&max=20&apikey={apikey}\"\n",
    "\n",
    "#url = f\"https://gnews.io/api/v4/top-headlines?category={category}&lang=en&country=us&max=10&from=2022-08-21T16:27:09Z&to=2022-08-22T16:27:09Z&apikey={apikey}\"\n",
    "\n",
    "\n",
    "with urllib.request.urlopen(url) as response:\n",
    "    data = json.loads(response.read().decode(\"utf-8\"))\n",
    "    articles = data[\"articles\"]\n",
    "\n",
    "    for i in range(len(articles)):\n",
    "        # articles[i].title\n",
    "        print(f\"Title: {articles[i]['title']}\")\n",
    "        # articles[i].description\n",
    "        print(f\"Description: {articles[i]['description']}\")\n",
    "        print(f\" {articles[i]}\")\n",
    "\n",
    "        # You can replace {property} below with any of the article properties returned by the API.\n",
    "        # articles[i].{property}\n",
    "        # print(f\"{articles[i]['{property}']}\")\n",
    "\n",
    "        # Delete this line to display all the articles returned by the request. Currently only the first article is displayed.\n",
    "        "
   ]
  }
 ],
 "metadata": {
  "kernelspec": {
   "display_name": "Python 3",
   "language": "python",
   "name": "python3"
  },
  "language_info": {
   "codemirror_mode": {
    "name": "ipython",
    "version": 3
   },
   "file_extension": ".py",
   "mimetype": "text/x-python",
   "name": "python",
   "nbconvert_exporter": "python",
   "pygments_lexer": "ipython3",
   "version": "3.11.2"
  },
  "orig_nbformat": 4,
  "vscode": {
   "interpreter": {
    "hash": "5b348fca72b2f7b5d298eae5c943a38b2c1fc0905995910a8a935ddb3ba2538e"
   }
  }
 },
 "nbformat": 4,
 "nbformat_minor": 2
}
