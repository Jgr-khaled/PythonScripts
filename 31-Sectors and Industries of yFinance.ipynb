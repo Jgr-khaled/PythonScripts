{
 "cells": [
  {
   "attachments": {},
   "cell_type": "markdown",
   "metadata": {},
   "source": [
    "Sectors and Industries of yFinance."
   ]
  },
  {
   "cell_type": "code",
   "execution_count": 20,
   "metadata": {},
   "outputs": [
    {
     "name": "stdout",
     "output_type": "stream",
     "text": [
      "['Basic Materials', 'Communication Services', 'Consumer Cyclical', 'Consumer Defensive', 'Energy', 'Financial Services', 'Healthcare', 'Industrials', 'Real Estate', 'Technology', 'Utilities']\n",
      "Basic Materials\n",
      "['Agricultural Inputs', 'Aluminum', 'Building Materials', 'Chemicals', 'Coking Coal', 'Copper', 'Gold', 'Lumber & Wood Production', 'Other Industrial Metals & Mining', 'Other Precious Metals & Mining', 'Paper & Paper Products', 'Silver', 'Specialty Chemicals', 'Steel']\n",
      "Communication Services\n",
      "['Advertising Agencies', 'Broadcasting', 'Electronic Gaming & Multimedia', 'Entertainment', 'Internet Content & Information', 'Publishing', 'Telecom Services']\n",
      "Consumer Cyclical\n",
      "['Apparel Manufacturing', 'Apparel Retail', 'Auto & Truck Dealerships', 'Auto Manufacturers', 'Auto Parts', 'Department Stores', 'Footwear & Accessories', 'Furnishings, Fixtures & Appliances', 'Gambling', 'Home Improvement Retail', 'Internet Retail', 'Leisure', 'Lodging', 'Luxury Goods', 'Packaging & Containers', 'Personal Services', 'Recreational Vehicles', 'Residential Construction', 'Resorts & Casinos', 'Restaurants', 'Specialty Retail', 'Textile Manufacturing', 'Travel Services']\n",
      "Consumer Defensive\n",
      "['Beverages—Brewers', 'Beverages—Non-Alcoholic', 'Beverages—Wineries & Distilleries', 'Confectioners', 'Discount Stores', 'Education & Training Services', 'Farm Products', 'Food Distribution', 'Grocery Stores', 'Household & Personal Products', 'Packaged Foods', 'Tobacco']\n",
      "Energy\n",
      "['Oil & Gas Drilling', 'Oil & Gas E&P', 'Oil & Gas Equipment & Services', 'Oil & Gas Integrated', 'Oil & Gas Midstream', 'Oil & Gas Refining & Marketing', 'Thermal Coal', 'Uranium']\n",
      "Financial Services\n",
      "['Asset Management', 'Banks—Diversified', 'Banks—Regional', 'Capital Markets', 'Credit Services', 'Financial Conglomerates', 'Financial Data & Stock Exchanges', 'Insurance Brokers', 'Insurance—Diversified', 'Insurance—Life', 'Insurance—Property & Casualty', 'Insurance—Reinsurance', 'Insurance—Specialty', 'Mortgage Finance', 'Shell Companies']\n",
      "Healthcare\n",
      "['Beverages—Brewers', 'Beverages—Non-Alcoholic', 'Beverages—Wineries & Distilleries', 'Confectioners', 'Diagnostics & Research', 'Farm Products', 'Health Information Services', 'Medical Devices', 'Medical Distribution', 'Medical Instruments & Supplies', 'Pharmaceutical Retailers']\n",
      "Industrials\n",
      "['Aerospace & Defense', 'Airlines', 'Airports & Air Services', 'Building Products & Equipment', 'Business Equipment & Supplies', 'Conglomerates', 'Consulting Services', 'Electrical Equipment & Parts', 'Engineering & Construction', 'Farm & Heavy Construction Machinery', 'Industrial Distribution', 'Infrastructure Operations', 'Marine Shipping', 'Metal Fabrication', 'Pollution & Treatment Controls', 'Railroads', 'Rental & Leasing Services', 'Security & Protection Services', 'Specialty Business Services', 'Specialty Industrial Machinery', 'Staffing & Employment Services', 'Tools & Accessories', 'Trucking']\n",
      "Real Estate\n",
      "['REIT—Diversified', 'REIT—Healthcare Facilities', 'REIT—Hotel & Motel', 'REIT—Industrial', 'REIT—Mortgage', 'REIT—Office', 'REIT—Residential', 'REIT—Retail', 'REIT—Specialty', 'Real Estate Services', 'Real Estate—Development', 'Real Estate—Diversified']\n",
      "Technology\n",
      "['Communication Equipment', 'Computer Hardware', 'Consumer Electronics', 'Electronic Components', 'Electronics & Computer Distribution', 'Information Technology Services', 'Scientific & Technical Instruments', 'Semiconductor Equipment & Materials', 'Semiconductors', 'Software—Application', 'Software—Infrastructure', 'Solar']\n",
      "Utilities\n",
      "['Utilities—Diversified', 'Utilities—Independent Power Producers', 'Utilities—Regulated Electric', 'Utilities—Regulated Gas', 'Utilities—Regulated Water', 'Utilities—Renewable']\n"
     ]
    }
   ],
   "source": [
    "import yaml\n",
    "import pandas as pd\n",
    "\n",
    "with open('XPATH_Sectors_Industries.yaml', 'r') as f:\n",
    "    industry = yaml.safe_load(f)\n",
    "\n",
    "\n",
    "sec_industry = {}\n",
    "sectors = []\n",
    "for sector,industry_dic in industry.items():\n",
    "    sectors.append(sector)\n",
    "    \n",
    "    list_industry = []\n",
    "    for industries, Xpath in industry_dic.items():\n",
    "        list_industry.append(industries)\n",
    "        \n",
    "    sec_industry[sector] = list_industry\n",
    "\n",
    "print(sectors)  \n",
    "#print(sec_industry)  \n",
    "\n",
    "for i in range(0,11):\n",
    "    print(sectors[i])\n",
    "    print(sec_industry[sectors[i]])  \n",
    "\n",
    "\n",
    "\n",
    "\n",
    "\n",
    "\n"
   ]
  }
 ],
 "metadata": {
  "kernelspec": {
   "display_name": "Python 3",
   "language": "python",
   "name": "python3"
  },
  "language_info": {
   "codemirror_mode": {
    "name": "ipython",
    "version": 3
   },
   "file_extension": ".py",
   "mimetype": "text/x-python",
   "name": "python",
   "nbconvert_exporter": "python",
   "pygments_lexer": "ipython3",
   "version": "3.11.2"
  },
  "orig_nbformat": 4,
  "vscode": {
   "interpreter": {
    "hash": "5b348fca72b2f7b5d298eae5c943a38b2c1fc0905995910a8a935ddb3ba2538e"
   }
  }
 },
 "nbformat": 4,
 "nbformat_minor": 2
}
