{
 "cells": [
  {
   "attachments": {},
   "cell_type": "markdown",
   "metadata": {},
   "source": [
    "Converting Speech to Text "
   ]
  },
  {
   "cell_type": "code",
   "execution_count": 1,
   "metadata": {},
   "outputs": [],
   "source": [
    "#Import libraries:\n",
    "\n",
    "import speech_recognition as sr\n",
    "import pyaudio"
   ]
  },
  {
   "cell_type": "code",
   "execution_count": 33,
   "metadata": {},
   "outputs": [],
   "source": [
    "#Create a speech recognition object:\n",
    "\n",
    "Recog_object = sr.Recognizer()\n"
   ]
  },
  {
   "cell_type": "code",
   "execution_count": 36,
   "metadata": {},
   "outputs": [
    {
     "name": "stdout",
     "output_type": "stream",
     "text": [
      "Say something...\n"
     ]
    }
   ],
   "source": [
    "#Record audio:\n",
    "\n",
    "mic = sr.Microphone()\n",
    "\n",
    "with mic as source:\n",
    "    print(\"Say something...\")\n",
    "    audio = Recog_object.listen(source, timeout=10, phrase_time_limit=300)\n",
    "\n"
   ]
  },
  {
   "cell_type": "code",
   "execution_count": 38,
   "metadata": {},
   "outputs": [
    {
     "name": "stdout",
     "output_type": "stream",
     "text": [
      "result2:\n",
      "{   'alternative': [   {   'confidence': 0.96939498,\n",
      "                           'transcript': '11 years old I was told that I am '\n",
      "                                         'very very much stupid but I did not '\n",
      "                                         'believe that and I keep moving '\n",
      "                                         \"forward forward that's it baby\"},\n",
      "                       {   'transcript': '11 years old I was told that I am '\n",
      "                                         'very very much stupid but I did not '\n",
      "                                         'believe that and I keep moving '\n",
      "                                         \"forward forward forward that's it \"\n",
      "                                         'baby'},\n",
      "                       {   'transcript': '11 years old I was told that I am '\n",
      "                                         'very very much stupid but I did not '\n",
      "                                         'believe that and I keep moving '\n",
      "                                         \"forward forward that's its baby\"},\n",
      "                       {   'transcript': '11 years old I was told that I am '\n",
      "                                         'very very much stupid but I did not '\n",
      "                                         'believe that and I keep moving '\n",
      "                                         \"forward forward that's his baby\"},\n",
      "                       {   'transcript': '11 years old I was told that I am '\n",
      "                                         'very very much stupid but I did not '\n",
      "                                         'believe that and I keep moving '\n",
      "                                         'forward forward that sits baby'}],\n",
      "    'final': True}\n"
     ]
    }
   ],
   "source": [
    "#Convert speech to text:\n",
    "\n",
    "text = Recog_object.recognize_google(audio)\n"
   ]
  },
  {
   "cell_type": "code",
   "execution_count": 8,
   "metadata": {},
   "outputs": [
    {
     "name": "stdout",
     "output_type": "stream",
     "text": [
      "result2:\n",
      "{   'alternative': [   {   'confidence': 0.96086067,\n",
      "                           'transcript': 'hello how are you my name is Jager '\n",
      "                                         'greenhaled I am 25 years old I am '\n",
      "                                         'studying the garden now get in the '\n",
      "                                         \"south Portland University and I'm \"\n",
      "                                         \"trying to gain a master's degrees so \"\n",
      "                                         \"that I can't find a good job\"},\n",
      "                       {   'transcript': 'hello how are you my name is Jager '\n",
      "                                         'greenhaled I am 25 years old I am '\n",
      "                                         'studying the garden now get in the '\n",
      "                                         \"south Portland University and I'm \"\n",
      "                                         \"trying to gain a master's degrees \"\n",
      "                                         \"that I can't find a good job\"},\n",
      "                       {   'transcript': 'hello how are you my name is Jager '\n",
      "                                         'greenhaled I am 25 years old I am '\n",
      "                                         'studying the garden now get in the '\n",
      "                                         \"south Portland universities and I'm \"\n",
      "                                         \"trying to gain a master's degrees so \"\n",
      "                                         \"that I can't find a good job\"},\n",
      "                       {   'transcript': 'hello how are you my name is Jager '\n",
      "                                         'greenhaled I am 25 years old I am '\n",
      "                                         'studying the garden now get in the '\n",
      "                                         \"south Portland University and I'm \"\n",
      "                                         \"trying to gain a master's degrees so \"\n",
      "                                         \"that I can't find that good job\"}],\n",
      "    'final': True}\n",
      "You said: hello how are you my name is Jager greenhaled I am 25 years old I am studying the garden now get in the south Portland University and I'm trying to gain a master's degrees so that I can't find a good job\n"
     ]
    }
   ],
   "source": [
    "#Handle errors:\n",
    "\n",
    "try:\n",
    "    text = r.recognize_google(audio)\n",
    "    print(\"You said: \" + text)\n",
    "except sr.UnknownValueError:\n",
    "    print(\"Sorry, I could not understand what you said\")\n",
    "except sr.RequestError as e:\n",
    "    print(\"Could not request results from Google Speech Recognition service; {0}\".format(e))\n"
   ]
  }
 ],
 "metadata": {
  "kernelspec": {
   "display_name": "Python 3",
   "language": "python",
   "name": "python3"
  },
  "language_info": {
   "codemirror_mode": {
    "name": "ipython",
    "version": 3
   },
   "file_extension": ".py",
   "mimetype": "text/x-python",
   "name": "python",
   "nbconvert_exporter": "python",
   "pygments_lexer": "ipython3",
   "version": "3.11.2"
  },
  "orig_nbformat": 4,
  "vscode": {
   "interpreter": {
    "hash": "5b348fca72b2f7b5d298eae5c943a38b2c1fc0905995910a8a935ddb3ba2538e"
   }
  }
 },
 "nbformat": 4,
 "nbformat_minor": 2
}
