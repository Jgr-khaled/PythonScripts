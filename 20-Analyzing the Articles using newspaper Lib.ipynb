{
 "cells": [
  {
   "attachments": {},
   "cell_type": "markdown",
   "metadata": {},
   "source": [
    "Analyzing the Articles using newspaper Lib."
   ]
  },
  {
   "cell_type": "code",
   "execution_count": 8,
   "metadata": {},
   "outputs": [
    {
     "name": "stdout",
     "output_type": "stream",
     "text": [
      "Microsoft's president to push Activision deal at EU hearing; Google, Nvidia also present, article with imageMarkets category · February 21, 2023 · 10:23 AM UTCMicrosoft President Brad Smith on Tuesday will seek to convince EU antitrust regulators at a closed hearing that the U.S. software giant's $69 billion bid for \"Call of Duty\" maker Activision Blizzard will boost competition.\n",
      "['activision', 'software', 'seek', 'todays', 'utcmicrosoft', 'smith', 'president', 'regulators', 'latest', 'technology', 'hearing', 'push', 'eu']\n",
      "Title: Today's Latest Technology News\n",
      "Author: []\n"
     ]
    }
   ],
   "source": [
    "from newspaper import Article\n",
    "\n",
    "# URL of the news article\n",
    "url = \"https://www.reuters.com/technology/\"\n",
    "\n",
    "# Create an instance of the Article class\n",
    "article = Article(url)\n",
    "\n",
    "# Download and parse the article\n",
    "article.download()\n",
    "article.parse()\n",
    "\n",
    "article.nlp()\n",
    "\n",
    "# Access the summary and keywords\n",
    "print(article.summary)\n",
    "print(article.keywords)\n",
    "\n",
    "# Print the article title, author, and text\n",
    "print(\"Title:\", article.title)\n",
    "print(\"Author:\", article.authors)\n",
    "#print(\"Text:\", article.text)\n"
   ]
  }
 ],
 "metadata": {
  "kernelspec": {
   "display_name": "Python 3",
   "language": "python",
   "name": "python3"
  },
  "language_info": {
   "codemirror_mode": {
    "name": "ipython",
    "version": 3
   },
   "file_extension": ".py",
   "mimetype": "text/x-python",
   "name": "python",
   "nbconvert_exporter": "python",
   "pygments_lexer": "ipython3",
   "version": "3.11.2"
  },
  "orig_nbformat": 4,
  "vscode": {
   "interpreter": {
    "hash": "5b348fca72b2f7b5d298eae5c943a38b2c1fc0905995910a8a935ddb3ba2538e"
   }
  }
 },
 "nbformat": 4,
 "nbformat_minor": 2
}
